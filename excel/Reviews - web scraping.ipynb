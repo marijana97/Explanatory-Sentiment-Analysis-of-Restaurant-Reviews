{
 "cells": [
  {
   "cell_type": "markdown",
   "id": "f982b6ba",
   "metadata": {},
   "source": [
    "# Web Scraping - Reviews"
   ]
  },
  {
   "cell_type": "code",
   "execution_count": 1,
   "id": "98a4ac8c",
   "metadata": {},
   "outputs": [],
   "source": [
    "from bs4 import BeautifulSoup\n",
    "import requests\n",
    "import numpy as np\n",
    "import pandas as pd"
   ]
  },
  {
   "cell_type": "code",
   "execution_count": 2,
   "id": "a5ad90a0",
   "metadata": {},
   "outputs": [],
   "source": [
    "website = 'https://www.opentable.co.uk/r/14-hills-london'"
   ]
  },
  {
   "cell_type": "code",
   "execution_count": 3,
   "id": "bdff7133",
   "metadata": {},
   "outputs": [],
   "source": [
    "headers = {'User-Agent': 'Mozilla/5.0 (Windows NT 10.0; Win64; x64) AppleWebKit/537.36 (KHTML, like Gecko) Chrome/107.0.0.0 Safari/537.36'}"
   ]
  },
  {
   "cell_type": "code",
   "execution_count": 4,
   "id": "2446f943",
   "metadata": {},
   "outputs": [],
   "source": [
    "response = requests.get(website, headers=headers)"
   ]
  },
  {
   "cell_type": "code",
   "execution_count": 5,
   "id": "55e4e54a",
   "metadata": {},
   "outputs": [],
   "source": [
    "soup = BeautifulSoup(response.content, 'html.parser')"
   ]
  },
  {
   "cell_type": "code",
   "execution_count": 6,
   "id": "0e989ba7",
   "metadata": {},
   "outputs": [],
   "source": [
    "results = soup.find_all('li', {'class': 'mbK0eco4h3AaJgKLBhb9'})"
   ]
  },
  {
   "cell_type": "code",
   "execution_count": 7,
   "id": "dba44cbb",
   "metadata": {},
   "outputs": [
    {
     "data": {
      "text/plain": [
       "'IzabelaB'"
      ]
     },
     "execution_count": 7,
     "metadata": {},
     "output_type": "execute_result"
    }
   ],
   "source": [
    "# Name\n",
    "results[0].find('p', {'class': 'V0gqMM0V5nr33Ha56k83 BoZ_Hzg4GGZ1XXDaNyct'}).get_text()"
   ]
  },
  {
   "cell_type": "code",
   "execution_count": 10,
   "id": "9b477295",
   "metadata": {
    "scrolled": true
   },
   "outputs": [],
   "source": [
    "#Location\n",
    "results[0].find('p', {'class': 'UGzxfqPCuflxNBXSUvL_ BoZ_Hzg4GGZ1XXDaNyct'})#.get_text()"
   ]
  },
  {
   "cell_type": "code",
   "execution_count": 11,
   "id": "2e997164",
   "metadata": {},
   "outputs": [
    {
     "data": {
      "text/plain": [
       "'Dined 3 days ago'"
      ]
     },
     "execution_count": 11,
     "metadata": {},
     "output_type": "execute_result"
    }
   ],
   "source": [
    "# Date\n",
    "results[0].find('p', {'class': 'Xfrgl6cRPxn4vwFrFgk1'}).get_text()"
   ]
  },
  {
   "cell_type": "code",
   "execution_count": 12,
   "id": "d397635a",
   "metadata": {},
   "outputs": [
    {
     "data": {
      "text/plain": [
       "'4 stars'"
      ]
     },
     "execution_count": 12,
     "metadata": {},
     "output_type": "execute_result"
    }
   ],
   "source": [
    "#Rating\n",
    "results[0].find('div', attrs={'class': 'vJWFYZLiWZbHIB0Hwa83'}).attrs['aria-label']"
   ]
  },
  {
   "cell_type": "code",
   "execution_count": 13,
   "id": "a3ee71f6",
   "metadata": {},
   "outputs": [
    {
     "data": {
      "text/plain": [
       "'14 Hills was really good. My husmand and I started to go up on the 15 level where we enjoyed a beautiful view over London. Afterwards we went Down to the restaurant, where we were professionally greeted, shown to our table and got menus. We had a nice time with lovely food and drinks. The service was outstanding. So I would definitely recommend this restaurant to others. Thank you 14 Hills.'"
      ]
     },
     "execution_count": 13,
     "metadata": {},
     "output_type": "execute_result"
    }
   ],
   "source": [
    "#Review\n",
    "results[0].find('span', {'class': 't9JcvSL3Bsj1lxMSi3pz h_kb2PFOoyZe1skyGiz9 vF9xoC79LKrlQXgOuzNk'}).get_text().replace('\\n', ' ')"
   ]
  },
  {
   "cell_type": "code",
   "execution_count": 14,
   "id": "f2d0c99b",
   "metadata": {},
   "outputs": [],
   "source": [
    "name_list = []\n",
    "location_list = []\n",
    "date_list = []\n",
    "rating_list = []\n",
    "review_list = []\n",
    "\n",
    "for i in range(1, 11):\n",
    "    website = 'https://www.opentable.com/r/whitcombs-london?corrid=d476851e-513b-46f5-b727-dbca6caa018b&avt=eyJ2IjoyLCJtIjoxLCJwIjowLCJzIjowLCJuIjowfQ&p=2&sd=2022-12-02T19%3A00%3A00&page=' + str(i) + '&sortBy=newestReview'\n",
    "    headers = {'User-Agent': 'Mozilla/5.0 (Windows NT 10.0; Win64; x64) AppleWebKit/537.36 (KHTML, like Gecko) Chrome/107.0.0.0 Safari/537.36'}\n",
    "    response = requests.get(website, headers=headers)\n",
    "    soup = BeautifulSoup(response.content, 'html.parser')\n",
    "    results = soup.find_all('li', {'class': 'mbK0eco4h3AaJgKLBhb9'})\n",
    "    \n",
    "    for result in results:\n",
    "        try:\n",
    "            name_list.append(result.find('p', {'class': 'V0gqMM0V5nr33Ha56k83 BoZ_Hzg4GGZ1XXDaNyct'}).get_text())\n",
    "        except:\n",
    "            name_list.append('')\n",
    "            \n",
    "        try:\n",
    "            location_list.append(result.find('p', {'class': 'UGzxfqPCuflxNBXSUvL_ BoZ_Hzg4GGZ1XXDaNyct'}).get_text())\n",
    "        except:\n",
    "            location_list.append('')\n",
    "            \n",
    "        try:\n",
    "            date_list.append(result.find('p', {'class': 'Xfrgl6cRPxn4vwFrFgk1'}).get_text())\n",
    "        except:\n",
    "            date_list.append('')\n",
    "            \n",
    "        try:\n",
    "            rating_list.append(result.find('div', attrs={'class': 'vJWFYZLiWZbHIB0Hwa83'}).attrs['aria-label'])\n",
    "        except:\n",
    "            rating_list.append('')\n",
    "            \n",
    "        try:\n",
    "            review_list.append(result.find('span', {'class': 't9JcvSL3Bsj1lxMSi3pz h_kb2PFOoyZe1skyGiz9 vF9xoC79LKrlQXgOuzNk'}).get_text().replace('\\n', ' '))\n",
    "        except:\n",
    "            review_list.append('')"
   ]
  },
  {
   "cell_type": "code",
   "execution_count": 15,
   "id": "6a0b4865",
   "metadata": {},
   "outputs": [],
   "source": [
    "df = pd.DataFrame({'Name': name_list, 'Location': location_list, 'Date': date_list, \n",
    "                   'Rating': rating_list, 'Review': review_list})"
   ]
  },
  {
   "cell_type": "code",
   "execution_count": null,
   "id": "257e8eae",
   "metadata": {},
   "outputs": [],
   "source": [
    "#df.to_excel(\"14 Hills.xlsx\", index=False)"
   ]
  }
 ],
 "metadata": {
  "kernelspec": {
   "display_name": "Python 3 (ipykernel)",
   "language": "python",
   "name": "python3"
  },
  "language_info": {
   "codemirror_mode": {
    "name": "ipython",
    "version": 3
   },
   "file_extension": ".py",
   "mimetype": "text/x-python",
   "name": "python",
   "nbconvert_exporter": "python",
   "pygments_lexer": "ipython3",
   "version": "3.9.12"
  }
 },
 "nbformat": 4,
 "nbformat_minor": 5
}
