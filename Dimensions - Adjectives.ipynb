{
 "cells": [
  {
   "cell_type": "markdown",
   "id": "7655694e",
   "metadata": {},
   "source": [
    "# Dimensions -  Adjectives"
   ]
  },
  {
   "cell_type": "markdown",
   "id": "fbd0a7ab",
   "metadata": {},
   "source": [
    "In the first part, we analyzed all adjectives regardless of what they describe. In this analysis, we will focus on adjectives for each dimension to find out which adjectives guests use to describe each dimension."
   ]
  },
  {
   "cell_type": "markdown",
   "id": "bbed19cc",
   "metadata": {},
   "source": [
    "# Importing Libraries and Data Loading"
   ]
  },
  {
   "cell_type": "code",
   "execution_count": 1,
   "id": "95f87593",
   "metadata": {},
   "outputs": [],
   "source": [
    "import pandas as pd\n",
    "import nltk\n",
    "from nltk.tokenize import RegexpTokenizer\n",
    "from functools import reduce\n",
    "import numpy as np"
   ]
  },
  {
   "cell_type": "code",
   "execution_count": 2,
   "id": "3451b56b",
   "metadata": {},
   "outputs": [],
   "source": [
    "reviews = pd.read_excel('Reviews.xlsx')\n",
    "ps = pd.read_excel('Polarity_scores.xlsx')"
   ]
  },
  {
   "cell_type": "markdown",
   "id": "c7c48ad7",
   "metadata": {},
   "source": [
    "# Food terms"
   ]
  },
  {
   "cell_type": "markdown",
   "id": "5b843abb",
   "metadata": {},
   "source": [
    "First, we will start with terms related to food *(food, dish, meal, portion, menu, offer, presented)*. We will **split** the *Review* column on the given term. For example, when the term *'food'* appears in the *Review*, the column *Review* will be **divided into three columns**. The first column is first part of review **before** the term food, the second column is the **term** food itself, and the third column is last part of review **after** the term.\n",
    "\n",
    "After that in the first column *Before* we will leave only the **last word** and in the third column *After* we will leave **first three words** of review. The logic behind it is, for example, if the guest described the food as *'good food'*, the adjective 'good' will be **before** the term and will be in the **first column**. If the guest wrote *'food is good'*, the adjective will be placed **after** the term in the **third column** *After*.\n",
    "\n",
    "Using *pos_tag from nltk library*, we will find **adjectives and adverbs** *(JJ JJR, JJS, RB, RBR, RBS)* in the columns *Before and After*. We will create two functions, one for the column *Before* and another for the column *After* to **extract** the adjectives. At the end, we will **combine** them into one dataframe named *food_review3*. The column *Adjective_occurrence_[term]* will be created to count number of **occurrences** for each adjective."
   ]
  },
  {
   "cell_type": "markdown",
   "id": "f7a46791",
   "metadata": {},
   "source": [
    "### Food"
   ]
  },
  {
   "cell_type": "code",
   "execution_count": 3,
   "id": "ab1e7038",
   "metadata": {},
   "outputs": [],
   "source": [
    "def getAdjectiveBefore(label): \n",
    "    \n",
    "    def cleaning(label):\n",
    "        df = reviews.Review.str.lower()\n",
    "        df = df.str.partition(label) #Splitting column on a given term\n",
    "        df = df.rename(columns={0:'previous', 1:label, 2:'next'})\n",
    "        df = df[df[label]== label]\n",
    "        df = df.reset_index(drop=True)\n",
    "        return df\n",
    "    df_split = cleaning(label)\n",
    "\n",
    "    def get_words(df_split, label):\n",
    "        #column before the term, only the last word \n",
    "        df_split['Before'] = df_split['previous'].str.split() \\\n",
    "            .str[-1] \\\n",
    "            .fillna(label)\n",
    "        #column after the term, the first three words\n",
    "        df_split['After'] = df_split['next'].str.split() \\\n",
    "            .str[0:3] \\\n",
    "            .fillna(label) \\\n",
    "            .str.join(' ')\n",
    "        return df_split\n",
    "    df_before = get_words(df_split, label)\n",
    "    \n",
    "    def tokenize(df_before):\n",
    "        df_before['tokenized'] = df_before.Before.apply(lambda x: nltk.word_tokenize(x))\n",
    "        df_before['Pos_tag_before'] = df_before.tokenized.apply(lambda x: nltk.pos_tag(x))\n",
    "\n",
    "        df_before['tokenized_after'] = df_before.After.apply(lambda x: nltk.word_tokenize(x))\n",
    "        df_before['Pos_tag_after'] = df_before.tokenized_after.apply(lambda x: nltk.pos_tag(x))\n",
    "\n",
    "        df_before.Pos_tag_before = df_before.Pos_tag_before.apply(lambda x: x[0] if isinstance(x, list) else x).str.join(',')\n",
    "\n",
    "        return df_before\n",
    "    df_before = tokenize(df_before)\n",
    "    \n",
    "    def get_adjective(df_before):\n",
    "        output_df = pd.DataFrame(df_before.loc[:, 'Pos_tag_before'])\n",
    "        output_df = output_df.reset_index(drop=True)\n",
    "        output_df = output_df.rename(columns={'Pos_tag_before': 'Adjective'})\n",
    "        output_df = output_df.query('Adjective.str.contains(\"JJ\")')\n",
    "        return output_df\n",
    "\n",
    "    term_review = get_adjective(df_before)\n",
    "    return df_before, term_review"
   ]
  },
  {
   "cell_type": "code",
   "execution_count": 4,
   "id": "6eedc838",
   "metadata": {},
   "outputs": [],
   "source": [
    "df_food, food_review = getAdjectiveBefore('food')"
   ]
  },
  {
   "cell_type": "code",
   "execution_count": 5,
   "id": "ccea4766",
   "metadata": {},
   "outputs": [],
   "source": [
    "#Occurrences_food_first - counts the number of occurrences for each adjective in a review\n",
    "food_review = (food_review            \n",
    " .assign(Adjective = food_review.Adjective.str.split(',').str[0],\n",
    "         Occurrences_food_first = food_review.groupby('Adjective')['Adjective'].transform('count'))\n",
    " .drop_duplicates(keep='first')\n",
    "\n",
    ")"
   ]
  },
  {
   "cell_type": "code",
   "execution_count": 6,
   "id": "00158580",
   "metadata": {},
   "outputs": [],
   "source": [
    "# Assuming that if the adjective was in the first column before the term\n",
    "# then the adjective for that same term will not be found after the term\n",
    "# dropping all rows where Pos_tag_before had adjective because we already detected those adjectives in previous functions\n",
    "\n",
    "df2_food = df_food[~df_food.Pos_tag_before.str.contains('JJ')].reset_index(drop=True)"
   ]
  },
  {
   "cell_type": "code",
   "execution_count": 7,
   "id": "f505b0b2",
   "metadata": {},
   "outputs": [],
   "source": [
    "#finding adjectives after the term\n",
    "\n",
    "def getAdjectiveAfter(df):\n",
    "    output_df = pd.DataFrame(df.Pos_tag_after.explode().str.join(','))\n",
    "    output_df = output_df.rename(columns={'Pos_tag_after': 'Adjective'})\n",
    "    output_df = output_df.dropna()\n",
    "    output_df = output_df.query('Adjective.str.contains(\"JJ\")')\n",
    "    output_df = output_df.reset_index(drop=True)\n",
    "    return output_df"
   ]
  },
  {
   "cell_type": "code",
   "execution_count": 8,
   "id": "19a20470",
   "metadata": {},
   "outputs": [],
   "source": [
    "food_review2 = getAdjectiveAfter(df2_food)"
   ]
  },
  {
   "cell_type": "code",
   "execution_count": 9,
   "id": "bb228df5",
   "metadata": {},
   "outputs": [],
   "source": [
    "#merging two dataframes: food_review with adjectives before the term and food_review3 with adjectives after the term\n",
    "\n",
    "food_review3 = (food_review2\n",
    " .assign(Adjective = food_review2.Adjective.str.split(',').str[0],\n",
    "         Occurrences_food_last = food_review2.groupby('Adjective')['Adjective'].transform('count'))\n",
    " .merge(food_review, on='Adjective', how='right')\n",
    " .drop_duplicates(keep='first')\n",
    " .reset_index(drop=True)\n",
    " \n",
    ")"
   ]
  },
  {
   "cell_type": "code",
   "execution_count": 10,
   "id": "dcb34444",
   "metadata": {},
   "outputs": [],
   "source": [
    "#creating column for the total number of occurrences of the adjective before and after the term \n",
    "food_review3['Adjective_occurrence_food'] = food_review3[['Occurrences_food_first', 'Occurrences_food_last']].sum(axis=1)"
   ]
  },
  {
   "cell_type": "markdown",
   "id": "48c2ee5e",
   "metadata": {},
   "source": [
    "### Dish"
   ]
  },
  {
   "cell_type": "code",
   "execution_count": 11,
   "id": "9063486a",
   "metadata": {},
   "outputs": [],
   "source": [
    "df_dish, dish_review = getAdjectiveBefore('dish')"
   ]
  },
  {
   "cell_type": "code",
   "execution_count": 12,
   "id": "6c9532ba",
   "metadata": {},
   "outputs": [],
   "source": [
    "dish_review = (dish_review\n",
    " .assign(Adjective = dish_review.Adjective.str.split(',').str[0],\n",
    "         Occurrences_dish_first = dish_review.groupby('Adjective')['Adjective'].transform('count')\n",
    " )\n",
    " .drop_duplicates(keep='first')\n",
    " .reset_index(drop=True)\n",
    "\n",
    ")"
   ]
  },
  {
   "cell_type": "code",
   "execution_count": 13,
   "id": "d4960855",
   "metadata": {},
   "outputs": [],
   "source": [
    "df2_dish = df_dish[~df_dish.Pos_tag_before.str.contains('JJ')].reset_index()"
   ]
  },
  {
   "cell_type": "code",
   "execution_count": 14,
   "id": "cd3f9040",
   "metadata": {},
   "outputs": [],
   "source": [
    "dish_review2 = getAdjectiveAfter(df2_dish)"
   ]
  },
  {
   "cell_type": "code",
   "execution_count": 15,
   "id": "ad061674",
   "metadata": {},
   "outputs": [],
   "source": [
    "dish_review2 = (dish_review2\n",
    " .assign(Adjective = dish_review2.Adjective.str.split(',').str[0],\n",
    "         Occurrences_dish_last = dish_review2.groupby('Adjective')['Adjective'].transform('count'))\n",
    " .merge(dish_review, on='Adjective', how='right')\n",
    " .drop_duplicates(keep='first')\n",
    " \n",
    ")"
   ]
  },
  {
   "cell_type": "code",
   "execution_count": 16,
   "id": "f4ff1d4f",
   "metadata": {},
   "outputs": [],
   "source": [
    "food_review3 = food_review3.merge(dish_review2, on='Adjective', how='left')"
   ]
  },
  {
   "cell_type": "code",
   "execution_count": 17,
   "id": "01e0f60d",
   "metadata": {},
   "outputs": [],
   "source": [
    "food_review3['Adjective_occurrence_food'] = food_review3[['Occurrences_dish_last', 'Occurrences_dish_first', \n",
    "                                                          'Adjective_occurrence_food']].sum(axis=1)"
   ]
  },
  {
   "cell_type": "markdown",
   "id": "9ed191bc",
   "metadata": {},
   "source": [
    "### Meal"
   ]
  },
  {
   "cell_type": "code",
   "execution_count": 18,
   "id": "7249ac4e",
   "metadata": {},
   "outputs": [],
   "source": [
    "df_meal, meal_review = getAdjectiveBefore('meal')"
   ]
  },
  {
   "cell_type": "code",
   "execution_count": 19,
   "id": "f3d1a868",
   "metadata": {},
   "outputs": [],
   "source": [
    "meal_review = (meal_review\n",
    " .assign(Adjective = meal_review.Adjective.str.split(',').str[0],\n",
    "         Occurrences_meal_first = meal_review.groupby('Adjective')['Adjective'].transform('count')\n",
    " )\n",
    " .drop_duplicates(keep='first')\n",
    " .reset_index(drop=True)\n",
    "\n",
    ")"
   ]
  },
  {
   "cell_type": "code",
   "execution_count": 20,
   "id": "1b26d12b",
   "metadata": {},
   "outputs": [],
   "source": [
    "df2_meal = df_meal[~df_meal.Pos_tag_before.str.contains('JJ')].reset_index()"
   ]
  },
  {
   "cell_type": "code",
   "execution_count": 21,
   "id": "237f193f",
   "metadata": {},
   "outputs": [],
   "source": [
    "meal_review2 = getAdjectiveAfter(df2_meal)"
   ]
  },
  {
   "cell_type": "code",
   "execution_count": 22,
   "id": "14d406fd",
   "metadata": {},
   "outputs": [],
   "source": [
    "meal_review2 = (meal_review2\n",
    " .assign(Adjective = meal_review2.Adjective.str.split(',').str[0],\n",
    "         Occurrences_meal_last = meal_review2.groupby('Adjective')['Adjective'].transform('count'))\n",
    " .merge(meal_review, on='Adjective', how='right')\n",
    " .drop_duplicates(keep='first')\n",
    " \n",
    ")"
   ]
  },
  {
   "cell_type": "code",
   "execution_count": 23,
   "id": "bb1e1456",
   "metadata": {},
   "outputs": [],
   "source": [
    "food_review3 = food_review3.merge(meal_review2, on='Adjective', how='left')"
   ]
  },
  {
   "cell_type": "code",
   "execution_count": 24,
   "id": "da7ec0eb",
   "metadata": {},
   "outputs": [],
   "source": [
    "food_review3['Adjective_occurrence_food'] = food_review3[['Occurrences_meal_last', 'Occurrences_meal_first', \n",
    "                                                          'Adjective_occurrence_food']].sum(axis=1)"
   ]
  },
  {
   "cell_type": "markdown",
   "id": "7587c15f",
   "metadata": {},
   "source": [
    "### Portion"
   ]
  },
  {
   "cell_type": "code",
   "execution_count": 25,
   "id": "20344acf",
   "metadata": {},
   "outputs": [],
   "source": [
    "df_portion, portion_review = getAdjectiveBefore('portion')"
   ]
  },
  {
   "cell_type": "code",
   "execution_count": 26,
   "id": "0b344671",
   "metadata": {},
   "outputs": [],
   "source": [
    "portion_review = (portion_review\n",
    " .assign(Adjective = portion_review.Adjective.str.split(',').str[0],\n",
    "         Occurrences_portion_first = portion_review.groupby('Adjective')['Adjective'].transform('count')\n",
    " )\n",
    " .drop_duplicates(keep='first')\n",
    " .reset_index(drop=True)\n",
    "\n",
    ")"
   ]
  },
  {
   "cell_type": "code",
   "execution_count": 27,
   "id": "8f47c70b",
   "metadata": {},
   "outputs": [],
   "source": [
    "df2_portion = df_portion[~df_portion.Pos_tag_before.str.contains('JJ')].reset_index(drop=True)"
   ]
  },
  {
   "cell_type": "code",
   "execution_count": 28,
   "id": "fdd0326b",
   "metadata": {},
   "outputs": [],
   "source": [
    "portion_review2 = getAdjectiveAfter(df2_portion)"
   ]
  },
  {
   "cell_type": "code",
   "execution_count": 29,
   "id": "70fe8f0a",
   "metadata": {},
   "outputs": [],
   "source": [
    "portion_review2 = (portion_review2\n",
    " .assign(Adjective = portion_review2.Adjective.str.split(',').str[0],\n",
    "         Occurrences_portion_last = portion_review2.groupby('Adjective')['Adjective'].transform('count'))\n",
    " .merge(portion_review, on='Adjective', how='right')\n",
    " .drop_duplicates(keep='first')\n",
    " \n",
    ")"
   ]
  },
  {
   "cell_type": "code",
   "execution_count": 30,
   "id": "1ba5852c",
   "metadata": {},
   "outputs": [],
   "source": [
    "food_review3 = food_review3.merge(portion_review2, on='Adjective', how='left')"
   ]
  },
  {
   "cell_type": "code",
   "execution_count": 31,
   "id": "065a69e4",
   "metadata": {},
   "outputs": [],
   "source": [
    "food_review3['Adjective_occurrence_food'] = food_review3[['Occurrences_portion_last', 'Occurrences_portion_first', \n",
    "                                                          'Adjective_occurrence_food']].sum(axis=1)"
   ]
  },
  {
   "cell_type": "markdown",
   "id": "223b8ae3",
   "metadata": {},
   "source": [
    "### Menu"
   ]
  },
  {
   "cell_type": "code",
   "execution_count": 32,
   "id": "200082d5",
   "metadata": {},
   "outputs": [],
   "source": [
    "df_menu, menu_review = getAdjectiveBefore('menu')"
   ]
  },
  {
   "cell_type": "code",
   "execution_count": 33,
   "id": "b9e61677",
   "metadata": {},
   "outputs": [],
   "source": [
    "menu_review = (menu_review\n",
    " .assign(Adjective = menu_review.Adjective.str.split(',').str[0],\n",
    "         Occurrences_menu_first = menu_review.groupby('Adjective')['Adjective'].transform('count')\n",
    " )\n",
    " .drop_duplicates(keep='first')\n",
    " .reset_index(drop=True)\n",
    "\n",
    ")"
   ]
  },
  {
   "cell_type": "code",
   "execution_count": 34,
   "id": "d34e2d23",
   "metadata": {},
   "outputs": [],
   "source": [
    "df2_menu = df_menu[~df_menu.Pos_tag_before.str.contains('JJ')].reset_index(drop=True)"
   ]
  },
  {
   "cell_type": "code",
   "execution_count": 35,
   "id": "2466219b",
   "metadata": {},
   "outputs": [],
   "source": [
    "menu_review2 = getAdjectiveAfter(df2_menu)"
   ]
  },
  {
   "cell_type": "code",
   "execution_count": 36,
   "id": "7571c303",
   "metadata": {},
   "outputs": [],
   "source": [
    "menu_review2 = (menu_review2\n",
    " .assign(Adjective = menu_review2.Adjective.str.split(',').str[0],\n",
    "         Occurrences_menu_last = menu_review2.groupby('Adjective')['Adjective'].transform('count'))\n",
    " .merge(menu_review, on='Adjective', how='right')\n",
    " .drop_duplicates(keep='first')\n",
    " \n",
    ")"
   ]
  },
  {
   "cell_type": "code",
   "execution_count": 37,
   "id": "704834d0",
   "metadata": {},
   "outputs": [],
   "source": [
    "food_review3 = food_review3.merge(menu_review2, on='Adjective', how='left')"
   ]
  },
  {
   "cell_type": "code",
   "execution_count": 38,
   "id": "d31983a5",
   "metadata": {},
   "outputs": [],
   "source": [
    "food_review3['Adjective_occurrence_food'] = food_review3[['Occurrences_menu_last', 'Occurrences_menu_first', \n",
    "                                                          'Adjective_occurrence_food']].sum(axis=1)"
   ]
  },
  {
   "cell_type": "markdown",
   "id": "498d3bc5",
   "metadata": {},
   "source": [
    "### Offer"
   ]
  },
  {
   "cell_type": "code",
   "execution_count": 39,
   "id": "81d7dcd2",
   "metadata": {},
   "outputs": [],
   "source": [
    "df_offer, offer_review = getAdjectiveBefore('offer')"
   ]
  },
  {
   "cell_type": "code",
   "execution_count": 40,
   "id": "7c93ed49",
   "metadata": {},
   "outputs": [],
   "source": [
    "offer_review = (offer_review\n",
    " .assign(Adjective = offer_review.Adjective.str.split(',').str[0],\n",
    "         Occurrences_offer_first = offer_review.groupby('Adjective')['Adjective'].transform('count')\n",
    " )\n",
    " .drop_duplicates(keep='first')\n",
    " .reset_index(drop=True)\n",
    "\n",
    ")"
   ]
  },
  {
   "cell_type": "code",
   "execution_count": 41,
   "id": "a8e58584",
   "metadata": {},
   "outputs": [],
   "source": [
    "df2_offer = df_offer[~df_offer.Pos_tag_before.str.contains('JJ')].reset_index(drop=True)"
   ]
  },
  {
   "cell_type": "code",
   "execution_count": 42,
   "id": "a48c4d1d",
   "metadata": {},
   "outputs": [],
   "source": [
    "offer_review2 = getAdjectiveAfter(df2_offer)"
   ]
  },
  {
   "cell_type": "code",
   "execution_count": 43,
   "id": "363dbf50",
   "metadata": {},
   "outputs": [],
   "source": [
    "offer_review2 = (offer_review2\n",
    " .assign(Adjective = offer_review2.Adjective.str.split(',').str[0],\n",
    "         Occurrences_offer_last = offer_review2.groupby('Adjective')['Adjective'].transform('count'))\n",
    " .merge(offer_review, on='Adjective', how='right')\n",
    " .drop_duplicates(keep='first')\n",
    " \n",
    ")"
   ]
  },
  {
   "cell_type": "code",
   "execution_count": 44,
   "id": "9e76962e",
   "metadata": {},
   "outputs": [],
   "source": [
    "food_review3 = food_review3.merge(offer_review2, on='Adjective', how='left')"
   ]
  },
  {
   "cell_type": "code",
   "execution_count": 45,
   "id": "f1cabee2",
   "metadata": {},
   "outputs": [],
   "source": [
    "food_review3['Adjective_occurrence_food'] = food_review3[['Occurrences_offer_last', 'Occurrences_offer_first', \n",
    "                                                          'Adjective_occurrence_food']].sum(axis=1)"
   ]
  },
  {
   "cell_type": "markdown",
   "id": "2852e0a3",
   "metadata": {},
   "source": [
    "### Presented"
   ]
  },
  {
   "cell_type": "code",
   "execution_count": 46,
   "id": "93962551",
   "metadata": {},
   "outputs": [],
   "source": [
    "df_presented, presented_review = getAdjectiveBefore('presented')"
   ]
  },
  {
   "cell_type": "code",
   "execution_count": 47,
   "id": "f1f34d36",
   "metadata": {},
   "outputs": [],
   "source": [
    "presented_review = (presented_review\n",
    " .assign(Adjective = presented_review.Adjective.str.split(',').str[0],\n",
    "         Occurrences_presented_first = presented_review.groupby('Adjective')['Adjective'].transform('count')\n",
    " )\n",
    " .drop_duplicates(keep='first')\n",
    " .reset_index(drop=True)\n",
    "\n",
    ")"
   ]
  },
  {
   "cell_type": "code",
   "execution_count": 48,
   "id": "b866c759",
   "metadata": {},
   "outputs": [],
   "source": [
    "df2_presented = df_presented[~df_presented.Pos_tag_before.str.contains('JJ')].reset_index(drop=True)"
   ]
  },
  {
   "cell_type": "code",
   "execution_count": 49,
   "id": "b755313f",
   "metadata": {},
   "outputs": [],
   "source": [
    "presented_review2 = getAdjectiveAfter(df2_presented)"
   ]
  },
  {
   "cell_type": "code",
   "execution_count": 50,
   "id": "287e683f",
   "metadata": {},
   "outputs": [],
   "source": [
    "presented_review2 = (presented_review2\n",
    " .assign(Adjective = presented_review2.Adjective.str.split(',').str[0],\n",
    "         Occurrences_presented_last = presented_review2.groupby('Adjective')['Adjective'].transform('count'))\n",
    " .merge(presented_review, on='Adjective', how='right')\n",
    " .drop_duplicates(keep='first')\n",
    " \n",
    ")"
   ]
  },
  {
   "cell_type": "code",
   "execution_count": 51,
   "id": "f8527e9a",
   "metadata": {},
   "outputs": [],
   "source": [
    "food_review3 = food_review3.merge(presented_review2, on='Adjective', how='left')"
   ]
  },
  {
   "cell_type": "code",
   "execution_count": 52,
   "id": "43ed8376",
   "metadata": {},
   "outputs": [],
   "source": [
    "food_review3['Adjective_occurrence_food'] = food_review3[['Occurrences_presented_last', 'Occurrences_presented_first', \n",
    "                                                          'Adjective_occurrence_food']].sum(axis=1)"
   ]
  },
  {
   "cell_type": "code",
   "execution_count": 53,
   "id": "f420ed4c",
   "metadata": {},
   "outputs": [],
   "source": [
    "#getting the dataframe with only adjectives and adjective occurrence\n",
    "food_adjectives = (food_review3\n",
    " .loc[:, ['Adjective', 'Adjective_occurrence_food']]\n",
    " .astype({'Adjective_occurrence_food':'int'})\n",
    " .sort_values(by='Adjective_occurrence_food', ascending=False)\n",
    " .query('Adjective_occurrence_food >5')\n",
    " .reset_index(drop=True)\n",
    "\n",
    ")"
   ]
  },
  {
   "cell_type": "markdown",
   "id": "63243c80",
   "metadata": {},
   "source": [
    "# Service terms\n",
    "\n",
    "Next, we will apply the same functions to extract adjectives from term related to service *(service, waiter, staff, manager, reception, welcome)*."
   ]
  },
  {
   "cell_type": "markdown",
   "id": "5136752d",
   "metadata": {},
   "source": [
    "### Service"
   ]
  },
  {
   "cell_type": "code",
   "execution_count": 54,
   "id": "4b6e70a8",
   "metadata": {},
   "outputs": [],
   "source": [
    "df_service, service_review = getAdjectiveBefore('service')"
   ]
  },
  {
   "cell_type": "code",
   "execution_count": 55,
   "id": "ee39b275",
   "metadata": {},
   "outputs": [],
   "source": [
    "service_review = (service_review\n",
    " .assign(Adjective = service_review.Adjective.str.split(',').str[0],\n",
    "         Occurrences_service_first = service_review.groupby('Adjective')['Adjective'].transform('count'))\n",
    " .drop_duplicates(keep='first')\n",
    "\n",
    ")"
   ]
  },
  {
   "cell_type": "code",
   "execution_count": 56,
   "id": "aad8629f",
   "metadata": {},
   "outputs": [],
   "source": [
    "df2_service = df_service[~df_service.Pos_tag_before.str.contains('JJ')].reset_index()"
   ]
  },
  {
   "cell_type": "code",
   "execution_count": 57,
   "id": "8f7acde2",
   "metadata": {},
   "outputs": [],
   "source": [
    "service_review2 = getAdjectiveAfter(df2_service)"
   ]
  },
  {
   "cell_type": "code",
   "execution_count": 58,
   "id": "a4094b68",
   "metadata": {},
   "outputs": [],
   "source": [
    "service_review3 = (service_review2\n",
    " .assign(Adjective = service_review2.Adjective.str.split(',').str[0],\n",
    "         Occurrences_service_last = service_review2.groupby('Adjective')['Adjective'].transform('count'))\n",
    " .merge(service_review, on='Adjective', how='right')\n",
    " .drop_duplicates(keep='first')\n",
    " .reset_index(drop=True)\n",
    " \n",
    ")"
   ]
  },
  {
   "cell_type": "code",
   "execution_count": 59,
   "id": "e06e354e",
   "metadata": {},
   "outputs": [],
   "source": [
    "service_review3['Adjective_occurrence_service'] = service_review3[['Occurrences_service_first', \n",
    "                                                                   'Occurrences_service_last']].sum(axis=1)"
   ]
  },
  {
   "cell_type": "markdown",
   "id": "6d625448",
   "metadata": {},
   "source": [
    "### Welcome"
   ]
  },
  {
   "cell_type": "code",
   "execution_count": 60,
   "id": "3915b993",
   "metadata": {},
   "outputs": [],
   "source": [
    "df_welcome, welcome_review = getAdjectiveBefore('welcome')"
   ]
  },
  {
   "cell_type": "code",
   "execution_count": 61,
   "id": "99d14390",
   "metadata": {},
   "outputs": [],
   "source": [
    "welcome_review = (welcome_review\n",
    " .assign(Adjective = welcome_review.Adjective.str.split(',').str[0],\n",
    "         Occurrences_welcome_first = welcome_review.groupby('Adjective')['Adjective'].transform('count')\n",
    " )\n",
    " .drop_duplicates(keep='first')\n",
    " .reset_index(drop=True)\n",
    "\n",
    ")"
   ]
  },
  {
   "cell_type": "code",
   "execution_count": 62,
   "id": "30980ba0",
   "metadata": {},
   "outputs": [],
   "source": [
    "df2_welcome = df_welcome[~df_welcome.Pos_tag_before.str.contains('JJ')].reset_index()"
   ]
  },
  {
   "cell_type": "code",
   "execution_count": 63,
   "id": "e27a7663",
   "metadata": {},
   "outputs": [],
   "source": [
    "welcome_review2 = getAdjectiveAfter(df2_welcome)"
   ]
  },
  {
   "cell_type": "code",
   "execution_count": 64,
   "id": "f67e198a",
   "metadata": {},
   "outputs": [],
   "source": [
    "welcome_review2 = (welcome_review2\n",
    " .assign(Adjective = welcome_review2.Adjective.str.split(',').str[0],\n",
    "         Occurrences_welcome_last = welcome_review2.groupby('Adjective')['Adjective'].transform('count'))\n",
    " .merge(welcome_review, on='Adjective', how='right')\n",
    " .drop_duplicates(keep='first')\n",
    " \n",
    ")"
   ]
  },
  {
   "cell_type": "code",
   "execution_count": 65,
   "id": "64f793fc",
   "metadata": {},
   "outputs": [],
   "source": [
    "service_review3 = service_review3.merge(welcome_review2, on='Adjective', how='left')"
   ]
  },
  {
   "cell_type": "code",
   "execution_count": 66,
   "id": "08a54ff9",
   "metadata": {},
   "outputs": [],
   "source": [
    "service_review3['Adjective_occurrence_service'] = service_review3[['Adjective_occurrence_service', 'Occurrences_welcome_first', \n",
    "                                                                   'Occurrences_welcome_last']].sum(axis=1)"
   ]
  },
  {
   "cell_type": "markdown",
   "id": "3c81d11f",
   "metadata": {},
   "source": [
    "### Staff"
   ]
  },
  {
   "cell_type": "code",
   "execution_count": 67,
   "id": "48d30c1c",
   "metadata": {},
   "outputs": [],
   "source": [
    "df_staff, staff_review = getAdjectiveBefore('staff')"
   ]
  },
  {
   "cell_type": "code",
   "execution_count": 68,
   "id": "b3370677",
   "metadata": {},
   "outputs": [],
   "source": [
    "staff_review = (staff_review\n",
    " .assign(Adjective = staff_review.Adjective.str.split(',').str[0],\n",
    "         Occurrences_staff_first = staff_review.groupby('Adjective')['Adjective'].transform('count')\n",
    " )\n",
    " .drop_duplicates(keep='first')\n",
    " .reset_index(drop=True)\n",
    "\n",
    ")"
   ]
  },
  {
   "cell_type": "code",
   "execution_count": 69,
   "id": "5e6564e2",
   "metadata": {},
   "outputs": [],
   "source": [
    "df2_staff = df_staff[~df_staff.Pos_tag_before.str.contains('JJ')].reset_index()"
   ]
  },
  {
   "cell_type": "code",
   "execution_count": 70,
   "id": "881b77e7",
   "metadata": {},
   "outputs": [],
   "source": [
    "staff_review2 = getAdjectiveAfter(df2_staff)"
   ]
  },
  {
   "cell_type": "code",
   "execution_count": 71,
   "id": "3fbaaae6",
   "metadata": {},
   "outputs": [],
   "source": [
    "staff_review2 = (staff_review2\n",
    " .assign(Adjective = staff_review2.Adjective.str.split(',').str[0],\n",
    "         Occurrences_staff_last = staff_review2.groupby('Adjective')['Adjective'].transform('count'))\n",
    " .merge(staff_review, on='Adjective', how='right')\n",
    " .drop_duplicates(keep='first')\n",
    " \n",
    ")"
   ]
  },
  {
   "cell_type": "code",
   "execution_count": 72,
   "id": "6497ea6a",
   "metadata": {},
   "outputs": [],
   "source": [
    "service_review3 = service_review3.merge(staff_review2, on='Adjective', how='left')"
   ]
  },
  {
   "cell_type": "code",
   "execution_count": 73,
   "id": "233a5e9e",
   "metadata": {},
   "outputs": [],
   "source": [
    "service_review3['Adjective_occurrence_service'] = service_review3[['Adjective_occurrence_service', 'Occurrences_staff_first', \n",
    "                                                                   'Occurrences_staff_last']].sum(axis=1)"
   ]
  },
  {
   "cell_type": "markdown",
   "id": "2b609d23",
   "metadata": {},
   "source": [
    "### Manager"
   ]
  },
  {
   "cell_type": "code",
   "execution_count": 74,
   "id": "bc261893",
   "metadata": {},
   "outputs": [],
   "source": [
    "df_manager, manager_review = getAdjectiveBefore('manager')"
   ]
  },
  {
   "cell_type": "code",
   "execution_count": 75,
   "id": "ada5a611",
   "metadata": {},
   "outputs": [],
   "source": [
    "manager_review = (manager_review\n",
    " .assign(Adjective = manager_review.Adjective.str.split(',').str[0],\n",
    "         Occurrences_manager_first = manager_review.groupby('Adjective')['Adjective'].transform('count')\n",
    " )\n",
    " .drop_duplicates(keep='first')\n",
    " .reset_index(drop=True)\n",
    "\n",
    ")"
   ]
  },
  {
   "cell_type": "code",
   "execution_count": 76,
   "id": "c4aade92",
   "metadata": {},
   "outputs": [],
   "source": [
    "df2_manager = df_manager[~df_manager.Pos_tag_before.str.contains('JJ')].reset_index()"
   ]
  },
  {
   "cell_type": "code",
   "execution_count": 77,
   "id": "5317cfe9",
   "metadata": {},
   "outputs": [],
   "source": [
    "manager_review2 = getAdjectiveAfter(df2_manager)"
   ]
  },
  {
   "cell_type": "code",
   "execution_count": 78,
   "id": "63880e36",
   "metadata": {},
   "outputs": [],
   "source": [
    "manager_review2 = (manager_review2\n",
    " .assign(Adjective = manager_review2.Adjective.str.split(',').str[0],\n",
    "         Occurrences_manager_last = manager_review2.groupby('Adjective')['Adjective'].transform('count'))\n",
    " .merge(manager_review, on='Adjective', how='right')\n",
    " .drop_duplicates(keep='first')\n",
    " \n",
    ")"
   ]
  },
  {
   "cell_type": "code",
   "execution_count": 79,
   "id": "6ea154d7",
   "metadata": {},
   "outputs": [],
   "source": [
    "service_review3 = service_review3.merge(manager_review2, on='Adjective', how='left')"
   ]
  },
  {
   "cell_type": "code",
   "execution_count": 80,
   "id": "28cc1428",
   "metadata": {},
   "outputs": [],
   "source": [
    "service_review3['Adjective_occurrence_service'] = service_review3[['Adjective_occurrence_service', 'Occurrences_manager_first', \n",
    "                                                                   'Occurrences_manager_last']].sum(axis=1)"
   ]
  },
  {
   "cell_type": "markdown",
   "id": "8dbecd3a",
   "metadata": {},
   "source": [
    "### Waiter"
   ]
  },
  {
   "cell_type": "code",
   "execution_count": 81,
   "id": "53b8c317",
   "metadata": {},
   "outputs": [],
   "source": [
    "df_waiter, waiter_review = getAdjectiveBefore('waiter')"
   ]
  },
  {
   "cell_type": "code",
   "execution_count": 82,
   "id": "e86a8dfa",
   "metadata": {},
   "outputs": [],
   "source": [
    "waiter_review = (waiter_review\n",
    " .assign(Adjective = waiter_review.Adjective.str.split(',').str[0],\n",
    "         Occurrences_waiter_first = waiter_review.groupby('Adjective')['Adjective'].transform('count')\n",
    " )\n",
    " .drop_duplicates(keep='first')\n",
    " .reset_index(drop=True)\n",
    "\n",
    ")"
   ]
  },
  {
   "cell_type": "code",
   "execution_count": 83,
   "id": "f82b1260",
   "metadata": {},
   "outputs": [],
   "source": [
    "df2_waiter = df_waiter[~df_waiter.Pos_tag_before.str.contains('JJ')].reset_index()"
   ]
  },
  {
   "cell_type": "code",
   "execution_count": 84,
   "id": "4e66f5c0",
   "metadata": {},
   "outputs": [],
   "source": [
    "waiter_review2 = getAdjectiveAfter(df2_waiter)"
   ]
  },
  {
   "cell_type": "code",
   "execution_count": 85,
   "id": "c2c60c8f",
   "metadata": {},
   "outputs": [],
   "source": [
    "waiter_review2 = (waiter_review2\n",
    " .assign(Adjective = waiter_review2.Adjective.str.split(',').str[0],\n",
    "         Occurrences_waiter_last = waiter_review2.groupby('Adjective')['Adjective'].transform('count'))\n",
    " .merge(waiter_review, on='Adjective', how='right')\n",
    " .drop_duplicates(keep='first')\n",
    " \n",
    ")"
   ]
  },
  {
   "cell_type": "code",
   "execution_count": 86,
   "id": "e4a78de3",
   "metadata": {},
   "outputs": [],
   "source": [
    "service_review3 = service_review3.merge(waiter_review2, on='Adjective', how='left')"
   ]
  },
  {
   "cell_type": "code",
   "execution_count": 87,
   "id": "9a41094d",
   "metadata": {},
   "outputs": [],
   "source": [
    "service_review3['Adjective_occurrence_service'] = service_review3[['Adjective_occurrence_service', 'Occurrences_waiter_first', \n",
    "                                                                   'Occurrences_waiter_last']].sum(axis=1)"
   ]
  },
  {
   "cell_type": "code",
   "execution_count": 88,
   "id": "0e734c4d",
   "metadata": {},
   "outputs": [],
   "source": [
    "#getting the dataframe with only adjectives and adjective occurrence\n",
    "service_adjectives = (service_review3\n",
    " .loc[:, ['Adjective', 'Adjective_occurrence_service']]\n",
    " .astype({'Adjective_occurrence_service':'int'})\n",
    " .sort_values(by='Adjective_occurrence_service', ascending=False)\n",
    " .query('Adjective_occurrence_service >5')\n",
    " .reset_index(drop=True)\n",
    "\n",
    ")"
   ]
  },
  {
   "cell_type": "markdown",
   "id": "4ae14370",
   "metadata": {},
   "source": [
    "# Ambience terms\n",
    "\n",
    "Next, we will apply the same functions to extract adjectives from term related to ambience *(ambience, view, music, interior, decor, atmosphere)*."
   ]
  },
  {
   "cell_type": "markdown",
   "id": "072bbc0c",
   "metadata": {},
   "source": [
    "### Ambience"
   ]
  },
  {
   "cell_type": "code",
   "execution_count": 89,
   "id": "2bc8a7aa",
   "metadata": {},
   "outputs": [],
   "source": [
    "df_ambience, ambience_review = getAdjectiveBefore('ambience')"
   ]
  },
  {
   "cell_type": "code",
   "execution_count": 90,
   "id": "660313c5",
   "metadata": {},
   "outputs": [],
   "source": [
    "ambience_review = (ambience_review\n",
    " .assign(Adjective = ambience_review.Adjective.str.split(',').str[0],\n",
    "         Occurrences_ambience_first = ambience_review.groupby('Adjective')['Adjective'].transform('count'))\n",
    " .drop_duplicates(keep='first')\n",
    "\n",
    ")"
   ]
  },
  {
   "cell_type": "code",
   "execution_count": 91,
   "id": "51d34d76",
   "metadata": {},
   "outputs": [],
   "source": [
    "df2_ambience = df_ambience[~df_ambience.Pos_tag_before.str.contains('JJ')].reset_index()"
   ]
  },
  {
   "cell_type": "code",
   "execution_count": 92,
   "id": "c95e4907",
   "metadata": {},
   "outputs": [],
   "source": [
    "ambience_review2 = getAdjectiveAfter(df2_ambience)"
   ]
  },
  {
   "cell_type": "code",
   "execution_count": 93,
   "id": "fb354548",
   "metadata": {},
   "outputs": [],
   "source": [
    "ambience_review3 = (ambience_review2\n",
    " .assign(Adjective = ambience_review2.Adjective.str.split(',').str[0],\n",
    "         Occurrences_ambience_last = ambience_review2.groupby('Adjective')['Adjective'].transform('count'))\n",
    " .merge(ambience_review, on='Adjective', how='right')\n",
    " .drop_duplicates(keep='first')\n",
    " .reset_index(drop=True)\n",
    " \n",
    ")"
   ]
  },
  {
   "cell_type": "code",
   "execution_count": 94,
   "id": "9d155c1a",
   "metadata": {},
   "outputs": [],
   "source": [
    "ambience_review3['Adjective_occurrence_ambience'] = ambience_review3[['Occurrences_ambience_first', \n",
    "                                                                      'Occurrences_ambience_last']].sum(axis=1)"
   ]
  },
  {
   "cell_type": "markdown",
   "id": "3ff456d9",
   "metadata": {},
   "source": [
    "### Decor"
   ]
  },
  {
   "cell_type": "code",
   "execution_count": 95,
   "id": "ae194b9a",
   "metadata": {},
   "outputs": [],
   "source": [
    "df_decor, decor_review = getAdjectiveBefore('decor')"
   ]
  },
  {
   "cell_type": "code",
   "execution_count": 96,
   "id": "ef3ad7df",
   "metadata": {},
   "outputs": [],
   "source": [
    "decor_review = (decor_review\n",
    " .assign(Adjective = decor_review.Adjective.str.split(',').str[0],\n",
    "         Occurrences_decor_first = decor_review.groupby('Adjective')['Adjective'].transform('count')\n",
    " )\n",
    " .drop_duplicates(keep='first')\n",
    " .reset_index(drop=True)\n",
    "\n",
    ")"
   ]
  },
  {
   "cell_type": "code",
   "execution_count": 97,
   "id": "4b47e1c6",
   "metadata": {},
   "outputs": [],
   "source": [
    "df2_decor = df_decor[~df_decor.Pos_tag_before.str.contains('JJ')].reset_index()"
   ]
  },
  {
   "cell_type": "code",
   "execution_count": 98,
   "id": "a0d27e09",
   "metadata": {},
   "outputs": [],
   "source": [
    "decor_review2 = getAdjectiveAfter(df2_decor)"
   ]
  },
  {
   "cell_type": "code",
   "execution_count": 99,
   "id": "d60d590c",
   "metadata": {},
   "outputs": [],
   "source": [
    "decor_review2 = (decor_review2\n",
    " .assign(Adjective = decor_review2.Adjective.str.split(',').str[0],\n",
    "         Occurrences_decor_last = decor_review2.groupby('Adjective')['Adjective'].transform('count'))\n",
    " .merge(decor_review, on='Adjective', how='right')\n",
    " .drop_duplicates(keep='first')\n",
    " \n",
    ")"
   ]
  },
  {
   "cell_type": "code",
   "execution_count": 100,
   "id": "f40b9558",
   "metadata": {},
   "outputs": [],
   "source": [
    "ambience_review3 = ambience_review3.merge(decor_review2, on='Adjective', how='left')"
   ]
  },
  {
   "cell_type": "code",
   "execution_count": 101,
   "id": "ed084ae1",
   "metadata": {},
   "outputs": [],
   "source": [
    "ambience_review3['Adjective_occurrence_ambience'] = ambience_review3[['Adjective_occurrence_ambience', \n",
    "                                                            'Occurrences_decor_first' , 'Occurrences_decor_last']].sum(axis=1)"
   ]
  },
  {
   "cell_type": "markdown",
   "id": "e0cb294c",
   "metadata": {},
   "source": [
    "### View"
   ]
  },
  {
   "cell_type": "code",
   "execution_count": 102,
   "id": "3f1d2c6b",
   "metadata": {},
   "outputs": [],
   "source": [
    "df_view, view_review = getAdjectiveBefore('view')"
   ]
  },
  {
   "cell_type": "code",
   "execution_count": 103,
   "id": "c176f154",
   "metadata": {},
   "outputs": [],
   "source": [
    "view_review = (view_review\n",
    " .assign(Adjective = view_review.Adjective.str.split(',').str[0],\n",
    "         Occurrences_view_first = view_review.groupby('Adjective')['Adjective'].transform('count')\n",
    " )\n",
    " .drop_duplicates(keep='first')\n",
    " .reset_index(drop=True)\n",
    "\n",
    ")"
   ]
  },
  {
   "cell_type": "code",
   "execution_count": 104,
   "id": "13a6dd5b",
   "metadata": {},
   "outputs": [],
   "source": [
    "df2_view = df_view[~df_view.Pos_tag_before.str.contains('JJ')].reset_index()"
   ]
  },
  {
   "cell_type": "code",
   "execution_count": 105,
   "id": "99bce1dd",
   "metadata": {},
   "outputs": [],
   "source": [
    "view_review2 = getAdjectiveAfter(df2_view)"
   ]
  },
  {
   "cell_type": "code",
   "execution_count": 106,
   "id": "02dbc741",
   "metadata": {},
   "outputs": [],
   "source": [
    "view_review2 = (view_review2\n",
    " .assign(Adjective = view_review2.Adjective.str.split(',').str[0],\n",
    "         Occurrences_view_last = view_review2.groupby('Adjective')['Adjective'].transform('count'))\n",
    " .merge(view_review, on='Adjective', how='right')\n",
    " .drop_duplicates(keep='first')\n",
    " \n",
    ")"
   ]
  },
  {
   "cell_type": "code",
   "execution_count": 107,
   "id": "c1be9f30",
   "metadata": {},
   "outputs": [],
   "source": [
    "ambience_review3 = ambience_review3.merge(view_review2, on='Adjective', how='left')"
   ]
  },
  {
   "cell_type": "code",
   "execution_count": 108,
   "id": "30b073b7",
   "metadata": {},
   "outputs": [],
   "source": [
    "ambience_review3['Adjective_occurrence_ambience'] = ambience_review3[['Adjective_occurrence_ambience', 'Occurrences_view_first',\n",
    "                                                                      'Occurrences_view_last']].sum(axis=1)"
   ]
  },
  {
   "cell_type": "markdown",
   "id": "4c6fdbfb",
   "metadata": {},
   "source": [
    "### Interior"
   ]
  },
  {
   "cell_type": "code",
   "execution_count": 109,
   "id": "38ad3b97",
   "metadata": {},
   "outputs": [],
   "source": [
    "df_interior, interior_review = getAdjectiveBefore('interior')"
   ]
  },
  {
   "cell_type": "code",
   "execution_count": 110,
   "id": "5a4a011c",
   "metadata": {},
   "outputs": [],
   "source": [
    "interior_review = (interior_review\n",
    " .assign(Adjective = interior_review.Adjective.str.split(',').str[0],\n",
    "         Occurrences_interior_first = interior_review.groupby('Adjective')['Adjective'].transform('count')\n",
    " )\n",
    " .drop_duplicates(keep='first')\n",
    " .reset_index(drop=True)\n",
    "\n",
    ")"
   ]
  },
  {
   "cell_type": "code",
   "execution_count": 111,
   "id": "7981a1d5",
   "metadata": {},
   "outputs": [],
   "source": [
    "df2_interior = df_interior[~df_interior.Pos_tag_before.str.contains('JJ')].reset_index()"
   ]
  },
  {
   "cell_type": "code",
   "execution_count": 112,
   "id": "1a89a51d",
   "metadata": {},
   "outputs": [],
   "source": [
    "interior_review2 = getAdjectiveAfter(df2_interior)"
   ]
  },
  {
   "cell_type": "code",
   "execution_count": 113,
   "id": "9fa516f1",
   "metadata": {},
   "outputs": [],
   "source": [
    "interior_review2 = (interior_review2\n",
    " .assign(Adjective = interior_review2.Adjective.str.split(',').str[0],\n",
    "         Occurrences_interior_last = interior_review2.groupby('Adjective')['Adjective'].transform('count'))\n",
    " .merge(interior_review, on='Adjective', how='right')\n",
    " .drop_duplicates(keep='first')\n",
    " \n",
    ")"
   ]
  },
  {
   "cell_type": "code",
   "execution_count": 114,
   "id": "2dba524a",
   "metadata": {},
   "outputs": [],
   "source": [
    "ambience_review3 = ambience_review3.merge(interior_review2, on='Adjective', how='left')"
   ]
  },
  {
   "cell_type": "code",
   "execution_count": 115,
   "id": "c8cc0a44",
   "metadata": {},
   "outputs": [],
   "source": [
    "ambience_review3['Adjective_occurrence_ambience'] = ambience_review3[['Adjective_occurrence_ambience', \n",
    "                                                        'Occurrences_interior_first', 'Occurrences_interior_last']].sum(axis=1)"
   ]
  },
  {
   "cell_type": "markdown",
   "id": "2b407dac",
   "metadata": {},
   "source": [
    "### Music"
   ]
  },
  {
   "cell_type": "code",
   "execution_count": 116,
   "id": "20e5eb51",
   "metadata": {},
   "outputs": [],
   "source": [
    "df_music, music_review = getAdjectiveBefore('music')"
   ]
  },
  {
   "cell_type": "code",
   "execution_count": 117,
   "id": "31f8d483",
   "metadata": {},
   "outputs": [],
   "source": [
    "music_review = (music_review\n",
    " .assign(Adjective = music_review.Adjective.str.split(',').str[0],\n",
    "         Occurrences_music_first = music_review.groupby('Adjective')['Adjective'].transform('count')\n",
    " )\n",
    " .drop_duplicates(keep='first')\n",
    " .reset_index(drop=True)\n",
    "\n",
    ")"
   ]
  },
  {
   "cell_type": "code",
   "execution_count": 118,
   "id": "7e61bffc",
   "metadata": {},
   "outputs": [],
   "source": [
    "df2_music = df_music[~df_music.Pos_tag_before.str.contains('JJ')].reset_index()"
   ]
  },
  {
   "cell_type": "code",
   "execution_count": 119,
   "id": "8c9fe2ca",
   "metadata": {},
   "outputs": [],
   "source": [
    "music_review2 = getAdjectiveAfter(df2_music)"
   ]
  },
  {
   "cell_type": "code",
   "execution_count": 120,
   "id": "b3e01e8b",
   "metadata": {},
   "outputs": [],
   "source": [
    "music_review2 = (music_review2\n",
    " .assign(Adjective = music_review2.Adjective.str.split(',').str[0],\n",
    "         Occurrences_music_last = music_review2.groupby('Adjective')['Adjective'].transform('count'))\n",
    " .merge(music_review, on='Adjective', how='right')\n",
    " .drop_duplicates(keep='first')\n",
    " \n",
    ")"
   ]
  },
  {
   "cell_type": "code",
   "execution_count": 121,
   "id": "c192eb08",
   "metadata": {},
   "outputs": [],
   "source": [
    "ambience_review3 = ambience_review3.merge(music_review2, on='Adjective', how='left')"
   ]
  },
  {
   "cell_type": "code",
   "execution_count": 122,
   "id": "80f4d76b",
   "metadata": {},
   "outputs": [],
   "source": [
    "ambience_review3['Adjective_occurrence_ambience'] = ambience_review3[['Adjective_occurrence_ambience', \n",
    "                                                            'Occurrences_music_first', 'Occurrences_music_last']].sum(axis=1)"
   ]
  },
  {
   "cell_type": "markdown",
   "id": "42266418",
   "metadata": {},
   "source": [
    "### Atmosphere"
   ]
  },
  {
   "cell_type": "code",
   "execution_count": 123,
   "id": "d6c88a11",
   "metadata": {},
   "outputs": [],
   "source": [
    "df_atmosphere, atmosphere_review = getAdjectiveBefore('atmosphere')"
   ]
  },
  {
   "cell_type": "code",
   "execution_count": 124,
   "id": "2db7e2ec",
   "metadata": {},
   "outputs": [],
   "source": [
    "atmosphere_review = (atmosphere_review\n",
    " .assign(Adjective = atmosphere_review.Adjective.str.split(',').str[0],\n",
    "         Occurrences_atmosphere_first = atmosphere_review.groupby('Adjective')['Adjective'].transform('count')\n",
    " )\n",
    " .drop_duplicates(keep='first')\n",
    " .reset_index(drop=True)\n",
    "\n",
    ")"
   ]
  },
  {
   "cell_type": "code",
   "execution_count": 125,
   "id": "752defc3",
   "metadata": {},
   "outputs": [],
   "source": [
    "df2_atmosphere = df_atmosphere[~df_atmosphere.Pos_tag_before.str.contains('JJ')].reset_index()"
   ]
  },
  {
   "cell_type": "code",
   "execution_count": 126,
   "id": "2bcc690b",
   "metadata": {},
   "outputs": [],
   "source": [
    "atmosphere_review2 = getAdjectiveAfter(df2_atmosphere)"
   ]
  },
  {
   "cell_type": "code",
   "execution_count": 127,
   "id": "2241b731",
   "metadata": {},
   "outputs": [],
   "source": [
    "atmosphere_review2 = (atmosphere_review2\n",
    " .assign(Adjective = atmosphere_review2.Adjective.str.split(',').str[0],\n",
    "         Occurrences_atmosphere_last = atmosphere_review2.groupby('Adjective')['Adjective'].transform('count'))\n",
    " .merge(atmosphere_review, on='Adjective', how='right')\n",
    " .drop_duplicates(keep='first')\n",
    " \n",
    ")"
   ]
  },
  {
   "cell_type": "code",
   "execution_count": 128,
   "id": "dd6fcc42",
   "metadata": {},
   "outputs": [],
   "source": [
    "ambience_review3 = ambience_review3.merge(atmosphere_review2, on='Adjective', how='left')"
   ]
  },
  {
   "cell_type": "code",
   "execution_count": 129,
   "id": "bbc6fcee",
   "metadata": {},
   "outputs": [],
   "source": [
    "ambience_review3['Adjective_occurrence_ambience'] = ambience_review3[['Adjective_occurrence_ambience', \n",
    "                                                'Occurrences_atmosphere_first', 'Occurrences_atmosphere_last']].sum(axis=1)"
   ]
  },
  {
   "cell_type": "code",
   "execution_count": 130,
   "id": "3abf3f35",
   "metadata": {},
   "outputs": [],
   "source": [
    "#getting the dataframe with only adjectives and adjective occurrence\n",
    "ambience_adjectives = (ambience_review3\n",
    " .loc[:, ['Adjective', 'Adjective_occurrence_ambience']]\n",
    " .astype({'Adjective_occurrence_ambience':'int'})\n",
    " .sort_values(by='Adjective_occurrence_ambience', ascending=False)\n",
    " .query('Adjective_occurrence_ambience >5')\n",
    " .reset_index(drop=True)\n",
    "\n",
    ")"
   ]
  },
  {
   "cell_type": "markdown",
   "id": "459ac6ed",
   "metadata": {},
   "source": [
    "# Value\n",
    "Lastly, we will use the same functions to extract adjectives from term related to value *(price, pay, value, money, bill)*."
   ]
  },
  {
   "cell_type": "markdown",
   "id": "8139d942",
   "metadata": {},
   "source": [
    "### Price"
   ]
  },
  {
   "cell_type": "code",
   "execution_count": 131,
   "id": "b9e49671",
   "metadata": {},
   "outputs": [],
   "source": [
    "df_price, price_review = getAdjectiveBefore('price')"
   ]
  },
  {
   "cell_type": "code",
   "execution_count": 132,
   "id": "d9d3fa30",
   "metadata": {},
   "outputs": [],
   "source": [
    "price_review = (price_review\n",
    " .assign(Adjective = price_review.Adjective.str.split(',').str[0],\n",
    "         Occurrences_price_first = price_review.groupby('Adjective')['Adjective'].transform('count'))\n",
    " .drop_duplicates(keep='first')\n",
    "\n",
    ")"
   ]
  },
  {
   "cell_type": "code",
   "execution_count": 133,
   "id": "e78e92a0",
   "metadata": {},
   "outputs": [],
   "source": [
    "df2_price = df_price[~df_price.Pos_tag_before.str.contains('JJ')].reset_index()"
   ]
  },
  {
   "cell_type": "code",
   "execution_count": 134,
   "id": "69c8c7e8",
   "metadata": {},
   "outputs": [],
   "source": [
    "price_review2 = getAdjectiveAfter(df2_price)"
   ]
  },
  {
   "cell_type": "code",
   "execution_count": 135,
   "id": "5474a589",
   "metadata": {},
   "outputs": [],
   "source": [
    "price_review3 = (price_review2\n",
    " .assign(Adjective = price_review2.Adjective.str.split(',').str[0],\n",
    "         Occurrences_price_last = price_review2.groupby('Adjective')['Adjective'].transform('count'))\n",
    " .merge(price_review, on='Adjective', how='right')\n",
    " .drop_duplicates(keep='first')\n",
    " .reset_index(drop=True)\n",
    " \n",
    ")"
   ]
  },
  {
   "cell_type": "code",
   "execution_count": 136,
   "id": "2056fc3f",
   "metadata": {},
   "outputs": [],
   "source": [
    "price_review3['Adjective_occurrence_price'] = price_review3[['Occurrences_price_first', 'Occurrences_price_last']].sum(axis=1)"
   ]
  },
  {
   "cell_type": "markdown",
   "id": "4195e69b",
   "metadata": {},
   "source": [
    "### Value"
   ]
  },
  {
   "cell_type": "code",
   "execution_count": 137,
   "id": "13e1c62a",
   "metadata": {},
   "outputs": [],
   "source": [
    "df_value, value_review = getAdjectiveBefore('value')"
   ]
  },
  {
   "cell_type": "code",
   "execution_count": 138,
   "id": "d7f6bcc0",
   "metadata": {},
   "outputs": [],
   "source": [
    "value_review = (value_review\n",
    " .assign(Adjective = value_review.Adjective.str.split(',').str[0],\n",
    "         Occurrences_value_first = value_review.groupby('Adjective')['Adjective'].transform('count')\n",
    " )\n",
    " .drop_duplicates(keep='first')\n",
    " .reset_index(drop=True)\n",
    "\n",
    ")"
   ]
  },
  {
   "cell_type": "code",
   "execution_count": 139,
   "id": "ccacc6ee",
   "metadata": {},
   "outputs": [],
   "source": [
    "df2_value = df_value[~df_value.Pos_tag_before.str.contains('JJ')].reset_index()"
   ]
  },
  {
   "cell_type": "code",
   "execution_count": 140,
   "id": "077725b8",
   "metadata": {},
   "outputs": [],
   "source": [
    "value_review2 = getAdjectiveAfter(df2_value)"
   ]
  },
  {
   "cell_type": "code",
   "execution_count": 141,
   "id": "a55f0f6e",
   "metadata": {},
   "outputs": [],
   "source": [
    "value_review2 = (value_review2\n",
    " .assign(Adjective = value_review2.Adjective.str.split(',').str[0],\n",
    "         Occurrences_value_last = value_review2.groupby('Adjective')['Adjective'].transform('count'))\n",
    " .merge(value_review, on='Adjective', how='right')\n",
    " .drop_duplicates(keep='first')\n",
    " \n",
    ")"
   ]
  },
  {
   "cell_type": "code",
   "execution_count": 142,
   "id": "05c3eeee",
   "metadata": {},
   "outputs": [],
   "source": [
    "price_review3 = price_review3.merge(value_review2, on='Adjective', how='left')"
   ]
  },
  {
   "cell_type": "code",
   "execution_count": 143,
   "id": "5b2f7760",
   "metadata": {},
   "outputs": [],
   "source": [
    "price_review3['Adjective_occurrence_price'] = price_review3[['Adjective_occurrence_price', 'Occurrences_value_first', \n",
    "                                                             'Occurrences_value_last']].sum(axis=1)"
   ]
  },
  {
   "cell_type": "code",
   "execution_count": 144,
   "id": "f32510a5",
   "metadata": {},
   "outputs": [],
   "source": [
    "#getting the dataframe with only adjectives and adjective occurrence\n",
    "price_adjectives = (price_review3\n",
    " .loc[:, ['Adjective', 'Adjective_occurrence_price']]\n",
    " .astype({'Adjective_occurrence_price':'int'})\n",
    " .sort_values(by='Adjective_occurrence_price', ascending=False)\n",
    " .query('Adjective_occurrence_price >5')\n",
    " .reset_index(drop=True)\n",
    "\n",
    ")"
   ]
  },
  {
   "cell_type": "markdown",
   "id": "c324a1e6",
   "metadata": {},
   "source": [
    "# Putting all together\n",
    "Finally, all adjectives are extracted from all terms and data will be combined in one dataframe called *df_final* including the dataframe *ps* from previous analysis with all adjectives. Given that the adjectives **expensive, cheap, overpriced** are frequent adjectives used by guests to describe value, but they are *independent* adjectives and do not stand with any term, so we will extract them *additionally* from the reviews to find out how many times they occurred in reviews. Next we will drop all adjectives that don't appear with any term. We will sort values by *most popular adjectives based on food terms*. Adjectives like *italian, japanese, portuguese* will be dropped because they are describing the type of food served in a restaurant. "
   ]
  },
  {
   "cell_type": "code",
   "execution_count": 145,
   "id": "7fd18d15",
   "metadata": {},
   "outputs": [],
   "source": [
    "data_frames = [ps, food_adjectives, service_adjectives, ambience_adjectives, price_adjectives]\n",
    "\n",
    "df_final = reduce(lambda left, right: pd.merge(left, right, on='Adjective', how = 'outer'), data_frames)"
   ]
  },
  {
   "cell_type": "code",
   "execution_count": 146,
   "id": "8ca5b4a0",
   "metadata": {},
   "outputs": [],
   "source": [
    "# extracting adjectives expensive, cheap, overprices\n",
    "price_values = (df_final\n",
    " .loc[(df_final.Adjective == 'expensive')].Adjective_occurrence_price \\\n",
    "        .fillna(reviews[reviews.Review.str.contains('expensive')].shape[0] \\\n",
    "               + reviews[reviews.Review.str.contains('not cheap')].shape[0]),\n",
    " df_final.loc[(df_final.Adjective == 'overpriced')].Adjective_occurrence_price \\\n",
    "        .fillna(reviews[reviews.Review.str.contains('overpriced')].shape[0]),\n",
    " df_final.loc[(df_final.Adjective == 'cheap')].Adjective_occurrence_price \\\n",
    "        .fillna(reviews[reviews.Review.str.contains('cheap')].shape[0] \\\n",
    "                - reviews[reviews.Review.str.contains('not cheap')].shape[0])\n",
    " \n",
    "\n",
    ")"
   ]
  },
  {
   "cell_type": "code",
   "execution_count": 147,
   "id": "3f2d9643",
   "metadata": {},
   "outputs": [],
   "source": [
    "# adding adjectives to the dataframe\n",
    "df_final.loc[df_final.Adjective == 'expensive', 'Adjective_occurrence_price'] = 82.0\n",
    "df_final.loc[df_final.Adjective == 'overpriced', 'Adjective_occurrence_price'] = 31.0\n",
    "df_final.loc[df_final.Adjective == 'cheap', 'Adjective_occurrence_price'] = 21.0"
   ]
  },
  {
   "cell_type": "code",
   "execution_count": 148,
   "id": "62a6432d",
   "metadata": {},
   "outputs": [],
   "source": [
    "df_final = df_final[(df_final.Adjective_occurrence_food.notna()) | (df_final.Adjective_occurrence_price.notna()) | \\\n",
    "         (df_final.Adjective_occurrence_service.notna()) | (df_final.Adjective_occurrence_ambience.notna())] \\\n",
    "         .sort_values(by='Adjective_occurrence_food', ascending=False) \\\n",
    "         .reset_index(drop=True) \\\n",
    "         .drop([7,10,14,15]) \\\n",
    "         .reset_index(drop=True)"
   ]
  },
  {
   "cell_type": "code",
   "execution_count": 149,
   "id": "cf71899c",
   "metadata": {},
   "outputs": [],
   "source": [
    "df_final['Adjectives_sum'] = df_final[['Adjective_occurrence_food', 'Adjective_occurrence_service', \n",
    "                                       'Adjective_occurrence_ambience', 'Adjective_occurrence_price']].sum(axis=1)"
   ]
  },
  {
   "cell_type": "code",
   "execution_count": 150,
   "id": "ce53ba78",
   "metadata": {},
   "outputs": [],
   "source": [
    "#df_final.memory_usage(deep=True).sum()\n",
    "#df_final.to_excel('Adjective.xlsx')"
   ]
  }
 ],
 "metadata": {
  "kernelspec": {
   "display_name": "Python 3 (ipykernel)",
   "language": "python",
   "name": "python3"
  },
  "language_info": {
   "codemirror_mode": {
    "name": "ipython",
    "version": 3
   },
   "file_extension": ".py",
   "mimetype": "text/x-python",
   "name": "python",
   "nbconvert_exporter": "python",
   "pygments_lexer": "ipython3",
   "version": "3.9.12"
  }
 },
 "nbformat": 4,
 "nbformat_minor": 5
}
